{
  "nbformat": 4,
  "nbformat_minor": 0,
  "metadata": {
    "colab": {
      "name": "Neuronales Netz (Metriken mir Keras).ipynb",
      "provenance": [],
      "collapsed_sections": [],
      "authorship_tag": "ABX9TyPJErNXGQorth4yMzwNJmBf",
      "include_colab_link": true
    },
    "kernelspec": {
      "name": "python3",
      "display_name": "Python 3"
    }
  },
  "cells": [
    {
      "cell_type": "markdown",
      "metadata": {
        "id": "view-in-github",
        "colab_type": "text"
      },
      "source": [
        "<a href=\"https://colab.research.google.com/github/JenniO/neural-nets/blob/master/Neuronales_Netz_(Metriken_mir_Keras).ipynb\" target=\"_parent\"><img src=\"https://colab.research.google.com/assets/colab-badge.svg\" alt=\"Open In Colab\"/></a>"
      ]
    },
    {
      "cell_type": "code",
      "metadata": {
        "id": "8ZUB1v4M9rSk",
        "colab_type": "code",
        "colab": {
          "base_uri": "https://localhost:8080/",
          "height": 129
        },
        "outputId": "94b22dca-8a56-47a8-d408-e43983b638d5"
      },
      "source": [
        "from google.colab import drive\n",
        "drive.mount('/content/drive')"
      ],
      "execution_count": 1,
      "outputs": [
        {
          "output_type": "stream",
          "text": [
            "Go to this URL in a browser: https://accounts.google.com/o/oauth2/auth?client_id=947318989803-6bn6qk8qdgf4n4g3pfee6491hc0brc4i.apps.googleusercontent.com&redirect_uri=urn%3aietf%3awg%3aoauth%3a2.0%3aoob&scope=email%20https%3a%2f%2fwww.googleapis.com%2fauth%2fdocs.test%20https%3a%2f%2fwww.googleapis.com%2fauth%2fdrive%20https%3a%2f%2fwww.googleapis.com%2fauth%2fdrive.photos.readonly%20https%3a%2f%2fwww.googleapis.com%2fauth%2fpeopleapi.readonly&response_type=code\n",
            "\n",
            "Enter your authorization code:\n",
            "··········\n",
            "Mounted at /content/drive\n"
          ],
          "name": "stdout"
        }
      ]
    },
    {
      "cell_type": "code",
      "metadata": {
        "id": "7JOS8sBb0Vz2",
        "colab_type": "code",
        "colab": {}
      },
      "source": [
        "import gzip\n",
        "import numpy as np\n",
        "\n",
        "def open_images(filename):\n",
        "  with gzip.open(filename, \"rb\") as file:\n",
        "    data = file.read()\n",
        "    return np.frombuffer(data, dtype=np.uint8, offset=16)\\\n",
        "      .reshape(-1,28,28)\\\n",
        "      .astype(np.float32)\n",
        "\n",
        "def open_labels(filename):\n",
        "  with gzip.open(filename, \"rb\") as file:\n",
        "    data = file.read()\n",
        "    return np.frombuffer(data, dtype=np.uint8, offset=8)\n",
        "\n",
        "X_train = open_images(\"/content/drive/My Drive/Colab Notebooks/data/train-images-idx3-ubyte.gz\")\n",
        "y_train = open_labels(\"/content/drive/My Drive/Colab Notebooks/data/train-labels-idx1-ubyte.gz\")\n",
        "\n",
        "y_train = y_train == 0\n",
        "\n",
        "X_test = open_images(\"/content/drive/My Drive/Colab Notebooks/data/t10k-images-idx3-ubyte.gz\")\n",
        "y_test = open_labels(\"/content/drive/My Drive/Colab Notebooks/data/t10k-labels-idx1-ubyte.gz\")\n",
        "\n",
        "y_test = y_test == 0"
      ],
      "execution_count": 11,
      "outputs": []
    },
    {
      "cell_type": "code",
      "metadata": {
        "id": "cgKM7yfD1_Tg",
        "colab_type": "code",
        "colab": {}
      },
      "source": [
        "%matplotlib inline\n",
        "import matplotlib.pyplot as plt"
      ],
      "execution_count": 12,
      "outputs": []
    },
    {
      "cell_type": "code",
      "metadata": {
        "id": "gfYD8NOaxxei",
        "colab_type": "code",
        "colab": {}
      },
      "source": [
        "from tensorflow.keras.models import Sequential\n",
        "from tensorflow.keras.layers import Dense"
      ],
      "execution_count": 13,
      "outputs": []
    },
    {
      "cell_type": "code",
      "metadata": {
        "id": "cOe_DnnT46Gn",
        "colab_type": "code",
        "colab": {}
      },
      "source": [
        "model = Sequential()\n",
        "\n",
        "model.add(Dense(100, activation=\"sigmoid\", input_shape=(784,)))\n",
        "model.add(Dense(1, activation=\"sigmoid\"))\n",
        "\n",
        "model.compile(optimizer=\"sgd\", loss=\"binary_crossentropy\", metrics=[\"accuracy\"])"
      ],
      "execution_count": 14,
      "outputs": []
    },
    {
      "cell_type": "code",
      "metadata": {
        "id": "RtkQ4aXa6XEo",
        "colab_type": "code",
        "colab": {
          "base_uri": "https://localhost:8080/",
          "height": 403
        },
        "outputId": "77a0f823-eda0-47d1-c1c0-848f9f21cc14"
      },
      "source": [
        "model.fit(\n",
        "    X_train.reshape(60000, 784),\n",
        "    y_train,\n",
        "    epochs=10,\n",
        "    batch_size=1000)"
      ],
      "execution_count": 15,
      "outputs": [
        {
          "output_type": "stream",
          "text": [
            "Epoch 1/10\n",
            "60/60 [==============================] - 1s 11ms/step - loss: 0.2840 - accuracy: 0.8912\n",
            "Epoch 2/10\n",
            "60/60 [==============================] - 1s 11ms/step - loss: 0.1984 - accuracy: 0.9032\n",
            "Epoch 3/10\n",
            "60/60 [==============================] - 1s 11ms/step - loss: 0.1703 - accuracy: 0.9305\n",
            "Epoch 4/10\n",
            "60/60 [==============================] - 1s 11ms/step - loss: 0.1536 - accuracy: 0.9457\n",
            "Epoch 5/10\n",
            "60/60 [==============================] - 1s 11ms/step - loss: 0.1431 - accuracy: 0.9498\n",
            "Epoch 6/10\n",
            "60/60 [==============================] - 1s 11ms/step - loss: 0.1353 - accuracy: 0.9517\n",
            "Epoch 7/10\n",
            "60/60 [==============================] - 1s 11ms/step - loss: 0.1300 - accuracy: 0.9528\n",
            "Epoch 8/10\n",
            "60/60 [==============================] - 1s 11ms/step - loss: 0.1257 - accuracy: 0.9534\n",
            "Epoch 9/10\n",
            "60/60 [==============================] - 1s 11ms/step - loss: 0.1230 - accuracy: 0.9540\n",
            "Epoch 10/10\n",
            "60/60 [==============================] - 1s 11ms/step - loss: 0.1203 - accuracy: 0.9545\n"
          ],
          "name": "stdout"
        },
        {
          "output_type": "execute_result",
          "data": {
            "text/plain": [
              "<tensorflow.python.keras.callbacks.History at 0x7f7284577f28>"
            ]
          },
          "metadata": {
            "tags": []
          },
          "execution_count": 15
        }
      ]
    },
    {
      "cell_type": "code",
      "metadata": {
        "id": "g8_iqEX9CRhT",
        "colab_type": "code",
        "colab": {
          "base_uri": "https://localhost:8080/",
          "height": 54
        },
        "outputId": "177be893-f7f2-492b-e60d-cbb5cee770b0"
      },
      "source": [
        "model.evaluate(X_test.reshape(10000, 784), y_test)"
      ],
      "execution_count": 16,
      "outputs": [
        {
          "output_type": "stream",
          "text": [
            "313/313 [==============================] - 0s 1ms/step - loss: 0.1264 - accuracy: 0.9522\n"
          ],
          "name": "stdout"
        },
        {
          "output_type": "execute_result",
          "data": {
            "text/plain": [
              "[0.1264452338218689, 0.9521999955177307]"
            ]
          },
          "metadata": {
            "tags": []
          },
          "execution_count": 16
        }
      ]
    },
    {
      "cell_type": "code",
      "metadata": {
        "id": "Mf60JvgQAm8a",
        "colab_type": "code",
        "colab": {}
      },
      "source": [
        "model.evaluate?"
      ],
      "execution_count": 9,
      "outputs": []
    },
    {
      "cell_type": "code",
      "metadata": {
        "id": "Z1TLzHGoDJ8A",
        "colab_type": "code",
        "colab": {
          "base_uri": "https://localhost:8080/",
          "height": 35
        },
        "outputId": "a3f11ff6-6676-489b-988a-8e155154910d"
      },
      "source": [
        "print(model.metrics_names)"
      ],
      "execution_count": 10,
      "outputs": [
        {
          "output_type": "stream",
          "text": [
            "['loss', 'accuracy']\n"
          ],
          "name": "stdout"
        }
      ]
    }
  ]
}