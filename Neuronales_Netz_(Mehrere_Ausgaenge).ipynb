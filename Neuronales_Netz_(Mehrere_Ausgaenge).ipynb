{
  "nbformat": 4,
  "nbformat_minor": 0,
  "metadata": {
    "colab": {
      "name": "Neuronales Netz (Mehrere Ausgaenge).ipynb",
      "provenance": [],
      "collapsed_sections": [],
      "authorship_tag": "ABX9TyPauHU6Y0GqK/3kCPImLJH1",
      "include_colab_link": true
    },
    "kernelspec": {
      "name": "python3",
      "display_name": "Python 3"
    }
  },
  "cells": [
    {
      "cell_type": "markdown",
      "metadata": {
        "id": "view-in-github",
        "colab_type": "text"
      },
      "source": [
        "<a href=\"https://colab.research.google.com/github/JenniO/neural-nets/blob/master/Neuronales_Netz_(Mehrere_Ausgaenge).ipynb\" target=\"_parent\"><img src=\"https://colab.research.google.com/assets/colab-badge.svg\" alt=\"Open In Colab\"/></a>"
      ]
    },
    {
      "cell_type": "code",
      "metadata": {
        "id": "2nG8wQ0obwAt",
        "colab_type": "code",
        "colab": {
          "base_uri": "https://localhost:8080/",
          "height": 825
        },
        "outputId": "6182915e-e97b-40ff-f99b-f71900b8d99d"
      },
      "source": [
        "# https://github.com/zalandoresearch/fashion-mnist\n",
        "\n",
        "!wget http://fashion-mnist.s3-website.eu-central-1.amazonaws.com/train-images-idx3-ubyte.gz\n",
        "!wget http://fashion-mnist.s3-website.eu-central-1.amazonaws.com/train-labels-idx1-ubyte.gz\n",
        "!wget http://fashion-mnist.s3-website.eu-central-1.amazonaws.com/t10k-images-idx3-ubyte.gz\n",
        "!wget http://fashion-mnist.s3-website.eu-central-1.amazonaws.com/t10k-labels-idx1-ubyte.gz\n"
      ],
      "execution_count": null,
      "outputs": [
        {
          "output_type": "stream",
          "text": [
            "--2020-08-11 12:17:42--  http://fashion-mnist.s3-website.eu-central-1.amazonaws.com/train-images-idx3-ubyte.gz\n",
            "Resolving fashion-mnist.s3-website.eu-central-1.amazonaws.com (fashion-mnist.s3-website.eu-central-1.amazonaws.com)... 52.219.47.126\n",
            "Connecting to fashion-mnist.s3-website.eu-central-1.amazonaws.com (fashion-mnist.s3-website.eu-central-1.amazonaws.com)|52.219.47.126|:80... connected.\n",
            "HTTP request sent, awaiting response... 200 OK\n",
            "Length: 26421880 (25M) [binary/octet-stream]\n",
            "Saving to: ‘train-images-idx3-ubyte.gz’\n",
            "\n",
            "train-images-idx3-u 100%[===================>]  25.20M  11.5MB/s    in 2.2s    \n",
            "\n",
            "2020-08-11 12:17:44 (11.5 MB/s) - ‘train-images-idx3-ubyte.gz’ saved [26421880/26421880]\n",
            "\n",
            "--2020-08-11 12:17:45--  http://fashion-mnist.s3-website.eu-central-1.amazonaws.com/train-labels-idx1-ubyte.gz\n",
            "Resolving fashion-mnist.s3-website.eu-central-1.amazonaws.com (fashion-mnist.s3-website.eu-central-1.amazonaws.com)... 52.219.72.216\n",
            "Connecting to fashion-mnist.s3-website.eu-central-1.amazonaws.com (fashion-mnist.s3-website.eu-central-1.amazonaws.com)|52.219.72.216|:80... connected.\n",
            "HTTP request sent, awaiting response... 200 OK\n",
            "Length: 29515 (29K) [binary/octet-stream]\n",
            "Saving to: ‘train-labels-idx1-ubyte.gz’\n",
            "\n",
            "train-labels-idx1-u 100%[===================>]  28.82K  --.-KB/s    in 0.1s    \n",
            "\n",
            "2020-08-11 12:17:46 (201 KB/s) - ‘train-labels-idx1-ubyte.gz’ saved [29515/29515]\n",
            "\n",
            "--2020-08-11 12:17:47--  http://fashion-mnist.s3-website.eu-central-1.amazonaws.com/t10k-images-idx3-ubyte.gz\n",
            "Resolving fashion-mnist.s3-website.eu-central-1.amazonaws.com (fashion-mnist.s3-website.eu-central-1.amazonaws.com)... 52.219.74.90\n",
            "Connecting to fashion-mnist.s3-website.eu-central-1.amazonaws.com (fashion-mnist.s3-website.eu-central-1.amazonaws.com)|52.219.74.90|:80... connected.\n",
            "HTTP request sent, awaiting response... 200 OK\n",
            "Length: 4422102 (4.2M) [binary/octet-stream]\n",
            "Saving to: ‘t10k-images-idx3-ubyte.gz’\n",
            "\n",
            "t10k-images-idx3-ub 100%[===================>]   4.22M  3.66MB/s    in 1.2s    \n",
            "\n",
            "2020-08-11 12:17:48 (3.66 MB/s) - ‘t10k-images-idx3-ubyte.gz’ saved [4422102/4422102]\n",
            "\n",
            "--2020-08-11 12:17:49--  http://fashion-mnist.s3-website.eu-central-1.amazonaws.com/t10k-labels-idx1-ubyte.gz\n",
            "Resolving fashion-mnist.s3-website.eu-central-1.amazonaws.com (fashion-mnist.s3-website.eu-central-1.amazonaws.com)... 52.219.47.70\n",
            "Connecting to fashion-mnist.s3-website.eu-central-1.amazonaws.com (fashion-mnist.s3-website.eu-central-1.amazonaws.com)|52.219.47.70|:80... connected.\n",
            "HTTP request sent, awaiting response... 200 OK\n",
            "Length: 5148 (5.0K) [binary/octet-stream]\n",
            "Saving to: ‘t10k-labels-idx1-ubyte.gz’\n",
            "\n",
            "t10k-labels-idx1-ub 100%[===================>]   5.03K  --.-KB/s    in 0s      \n",
            "\n",
            "2020-08-11 12:17:49 (365 MB/s) - ‘t10k-labels-idx1-ubyte.gz’ saved [5148/5148]\n",
            "\n"
          ],
          "name": "stdout"
        }
      ]
    },
    {
      "cell_type": "code",
      "metadata": {
        "id": "7JOS8sBb0Vz2",
        "colab_type": "code",
        "colab": {}
      },
      "source": [
        "import gzip\n",
        "import numpy as np\n",
        "from tensorflow.keras.utils import to_categorical\n",
        "\n",
        "def open_images(filename):\n",
        "  with gzip.open(filename, \"rb\") as file:\n",
        "    data = file.read()\n",
        "    return np.frombuffer(data, dtype=np.uint8, offset=16)\\\n",
        "      .reshape(-1,28,28)\\\n",
        "      .astype(np.float32)\n",
        "\n",
        "def open_labels(filename):\n",
        "  with gzip.open(filename, \"rb\") as file:\n",
        "    data = file.read()\n",
        "    return np.frombuffer(data, dtype=np.uint8, offset=8)\n",
        "\n",
        "X_train = open_images(\"train-images-idx3-ubyte.gz\")\n",
        "y_train = open_labels(\"train-labels-idx1-ubyte.gz\")\n",
        "\n",
        "X_test = open_images(\"t10k-images-idx3-ubyte.gz\")\n",
        "y_test = open_labels(\"t10k-labels-idx1-ubyte.gz\")\n",
        "\n",
        "y_train = to_categorical(y_train)\n",
        "y_test = to_categorical(y_test)"
      ],
      "execution_count": null,
      "outputs": []
    },
    {
      "cell_type": "code",
      "metadata": {
        "id": "gfYD8NOaxxei",
        "colab_type": "code",
        "colab": {}
      },
      "source": [
        "from tensorflow.keras.models import Sequential\n",
        "from tensorflow.keras.layers import Dense"
      ],
      "execution_count": null,
      "outputs": []
    },
    {
      "cell_type": "code",
      "metadata": {
        "id": "cOe_DnnT46Gn",
        "colab_type": "code",
        "colab": {}
      },
      "source": [
        "model = Sequential()\n",
        "\n",
        "model.add(Dense(100, activation=\"sigmoid\", input_shape=(784,)))\n",
        "model.add(Dense(10, activation=\"sigmoid\"))\n",
        "\n",
        "model.compile(optimizer=\"sgd\", loss=\"categorical_crossentropy\", metrics=[\"accuracy\"])"
      ],
      "execution_count": null,
      "outputs": []
    },
    {
      "cell_type": "code",
      "metadata": {
        "id": "RtkQ4aXa6XEo",
        "colab_type": "code",
        "colab": {
          "base_uri": "https://localhost:8080/",
          "height": 403
        },
        "outputId": "0fa81403-a7c4-4d52-a85e-d4be2b416f98"
      },
      "source": [
        "model.fit(\n",
        "    X_train.reshape(60000, 784),\n",
        "    y_train,\n",
        "    epochs=10,\n",
        "    batch_size=1000)"
      ],
      "execution_count": null,
      "outputs": [
        {
          "output_type": "stream",
          "text": [
            "Epoch 1/10\n",
            "60/60 [==============================] - 1s 13ms/step - loss: 2.1085 - accuracy: 0.2554\n",
            "Epoch 2/10\n",
            "60/60 [==============================] - 1s 12ms/step - loss: 1.8442 - accuracy: 0.5321\n",
            "Epoch 3/10\n",
            "60/60 [==============================] - 1s 12ms/step - loss: 1.6627 - accuracy: 0.6296\n",
            "Epoch 4/10\n",
            "60/60 [==============================] - 1s 11ms/step - loss: 1.4945 - accuracy: 0.6718\n",
            "Epoch 5/10\n",
            "60/60 [==============================] - 1s 11ms/step - loss: 1.3449 - accuracy: 0.7012\n",
            "Epoch 6/10\n",
            "60/60 [==============================] - 1s 11ms/step - loss: 1.2215 - accuracy: 0.7200\n",
            "Epoch 7/10\n",
            "60/60 [==============================] - 1s 12ms/step - loss: 1.1208 - accuracy: 0.7323\n",
            "Epoch 8/10\n",
            "60/60 [==============================] - 1s 13ms/step - loss: 1.0389 - accuracy: 0.7463\n",
            "Epoch 9/10\n",
            "60/60 [==============================] - 1s 13ms/step - loss: 0.9732 - accuracy: 0.7555\n",
            "Epoch 10/10\n",
            "60/60 [==============================] - 1s 12ms/step - loss: 0.9166 - accuracy: 0.7661\n"
          ],
          "name": "stdout"
        },
        {
          "output_type": "execute_result",
          "data": {
            "text/plain": [
              "<tensorflow.python.keras.callbacks.History at 0x7f57a4cdf668>"
            ]
          },
          "metadata": {
            "tags": []
          },
          "execution_count": 14
        }
      ]
    },
    {
      "cell_type": "code",
      "metadata": {
        "id": "g8_iqEX9CRhT",
        "colab_type": "code",
        "colab": {
          "base_uri": "https://localhost:8080/",
          "height": 54
        },
        "outputId": "f8585680-1af3-4681-aea3-7e2c60a9a3c7"
      },
      "source": [
        "model.evaluate(X_test.reshape(10000, 784), y_test)"
      ],
      "execution_count": null,
      "outputs": [
        {
          "output_type": "stream",
          "text": [
            "313/313 [==============================] - 0s 1ms/step - loss: 0.9086 - accuracy: 0.7560\n"
          ],
          "name": "stdout"
        },
        {
          "output_type": "execute_result",
          "data": {
            "text/plain": [
              "[0.9085596799850464, 0.7559999823570251]"
            ]
          },
          "metadata": {
            "tags": []
          },
          "execution_count": 15
        }
      ]
    },
    {
      "cell_type": "code",
      "metadata": {
        "id": "Mf60JvgQAm8a",
        "colab_type": "code",
        "colab": {}
      },
      "source": [
        "model.evaluate?"
      ],
      "execution_count": null,
      "outputs": []
    },
    {
      "cell_type": "code",
      "metadata": {
        "id": "Z1TLzHGoDJ8A",
        "colab_type": "code",
        "colab": {
          "base_uri": "https://localhost:8080/",
          "height": 35
        },
        "outputId": "c3c49068-bd3b-4822-dbaa-036c029bfae5"
      },
      "source": [
        "print(model.metrics_names)"
      ],
      "execution_count": null,
      "outputs": [
        {
          "output_type": "stream",
          "text": [
            "['loss', 'accuracy']\n"
          ],
          "name": "stdout"
        }
      ]
    }
  ]
}